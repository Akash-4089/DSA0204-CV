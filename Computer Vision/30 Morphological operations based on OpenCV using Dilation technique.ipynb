{
 "cells": [
  {
   "cell_type": "code",
   "execution_count": null,
   "metadata": {},
   "outputs": [],
   "source": [
    "import cv2\n",
    "import numpy as np\n",
    "img = cv2.imread(\"D://Computer Vision//Docs//car.jpeg\", cv2.IMREAD_GRAYSCALE)\n",
    "kernel = np.ones((5,5), np.uint8)\n",
    "dilation = cv2.dilate(img, kernel, iterations=1)\n",
    "cv2.imshow(\"Original\", img)\n",
    "cv2.imshow(\"Dilation\", dilation)\n",
    "cv2.waitKey(0)\n",
    "cv2.destroyAllWindows()"
   ]
  }
 ],
 "metadata": {
  "language_info": {
   "name": "python"
  },
  "orig_nbformat": 4
 },
 "nbformat": 4,
 "nbformat_minor": 2
}
