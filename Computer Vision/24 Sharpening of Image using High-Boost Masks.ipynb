{
 "cells": [
  {
   "cell_type": "code",
   "execution_count": null,
   "metadata": {},
   "outputs": [],
   "source": [
    "import cv2\n",
    "import numpy as np\n",
    "import matplotlib.pyplot as plt\n",
    "def high_boost_sharpening(image_path, k=1.5):\n",
    "    original_image = cv2.imread(image_path, cv2.IMREAD_GRAYSCALE)\n",
    "    blurred_image = cv2.GaussianBlur(original_image, (5, 5), 0)\n",
    "    high_pass = original_image - blurred_image\n",
    "    sharpened_image = original_image + k * high_pass\n",
    "    return original_image, sharpened_image\n",
    "image_path = \"D://Computer Vision//Docs//car.jpeg\"\n",
    "original_image, sharpened_image = high_boost_sharpening(image_path, k=1.5)\n"
   ]
  },
  {
   "cell_type": "code",
   "execution_count": null,
   "metadata": {},
   "outputs": [],
   "source": [
    "plt.figure(figsize=(10, 5))\n",
    "plt.subplot(1, 3, 1)\n",
    "plt.imshow(original_image, cmap='gray')\n",
    "plt.title('Original Image')\n",
    "plt.subplot(1, 3, 2)\n",
    "plt.imshow(sharpened_image, cmap='gray')\n",
    "plt.title('Sharpened Image')\n",
    "plt.subplot(1, 3, 3)\n",
    "plt.imshow(original_image - sharpened_image, cmap='gray')\n",
    "plt.title('Detail (High-Pass)')\n",
    "plt.tight_layout()\n",
    "plt.show()"
   ]
  }
 ],
 "metadata": {
  "language_info": {
   "name": "python"
  },
  "orig_nbformat": 4
 },
 "nbformat": 4,
 "nbformat_minor": 2
}
