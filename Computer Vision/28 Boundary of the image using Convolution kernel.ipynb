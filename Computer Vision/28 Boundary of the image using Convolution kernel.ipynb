{
 "cells": [
  {
   "cell_type": "code",
   "execution_count": null,
   "metadata": {},
   "outputs": [],
   "source": [
    "import cv2\n",
    "import numpy as np\n",
    "img = cv2.imread(\"D://Computer Vision//Docs//car.jpeg\",cv2.IMREAD_GRAYSCALE)\n",
    "dx = cv2.Sobel(img, cv2.CV_64F, 1, 0)\n",
    "dy = cv2.Sobel(img, cv2.CV_64F, 0, 1)\n",
    "edges = cv2.magnitude(dx, dy)\n",
    "thresh = 100\n",
    "edges[edges < thresh] = 0\n",
    "edges[edges >= thresh] = 255\n",
    "cv2.imshow(\"Edges\", edges)\n",
    "cv2.waitKey(0)\n",
    "cv2.destroyAllWindows()"
   ]
  }
 ],
 "metadata": {
  "language_info": {
   "name": "python"
  },
  "orig_nbformat": 4
 },
 "nbformat": 4,
 "nbformat_minor": 2
}
