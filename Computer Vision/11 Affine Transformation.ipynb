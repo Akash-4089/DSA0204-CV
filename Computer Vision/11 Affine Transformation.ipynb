{
 "cells": [
  {
   "cell_type": "code",
   "execution_count": 2,
   "metadata": {},
   "outputs": [],
   "source": [
    "import cv2\n",
    "import numpy as np\n"
   ]
  },
  {
   "cell_type": "code",
   "execution_count": 3,
   "metadata": {},
   "outputs": [],
   "source": [
    "image_path = \"D://Computer Vision//Docs//car.jpeg\"\n",
    "image = cv2.imread(image_path)\n",
    "rows, cols, _ = image.shape\n",
    "transformation_matrix = np.float32([[1, 0, 50], [0, 1, 30]])\n",
    "affine_image = cv2.warpAffine(image, transformation_matrix, (cols, rows))"
   ]
  },
  {
   "cell_type": "code",
   "execution_count": 4,
   "metadata": {},
   "outputs": [],
   "source": [
    "img = cv2.resize(image,(600,600))\n",
    "img2 = cv2.resize(affine_image,(600,600))\n",
    "cv2.imshow('Original Image', img)\n",
    "cv2.imshow('Affine Transformed Image', img2)\n",
    "cv2.waitKey(0)\n",
    "cv2.destroyAllWindows()"
   ]
  }
 ],
 "metadata": {
  "kernelspec": {
   "display_name": "Python 3",
   "language": "python",
   "name": "python3"
  },
  "language_info": {
   "codemirror_mode": {
    "name": "ipython",
    "version": 3
   },
   "file_extension": ".py",
   "mimetype": "text/x-python",
   "name": "python",
   "nbconvert_exporter": "python",
   "pygments_lexer": "ipython3",
   "version": "3.11.4"
  },
  "orig_nbformat": 4
 },
 "nbformat": 4,
 "nbformat_minor": 2
}
