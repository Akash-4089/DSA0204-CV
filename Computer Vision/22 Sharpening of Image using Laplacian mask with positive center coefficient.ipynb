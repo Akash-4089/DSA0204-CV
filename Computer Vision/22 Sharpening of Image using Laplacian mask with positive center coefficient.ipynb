{
 "cells": [
  {
   "cell_type": "code",
   "execution_count": null,
   "metadata": {},
   "outputs": [],
   "source": [
    "import cv2\n",
    "import numpy as np\n",
    "img = cv2.imread(\"D://Computer Vision//Docs//car.jpeg\")\n",
    "img = cv2.resize(img,(255, 255))\n",
    "gray_img = cv2.cvtColor(img, cv2.COLOR_BGR2GRAY)\n",
    "laplacian_kernel = np.array([[0, -1, 0], [-1, 5, -1], [0, -1, 0]])\n",
    "sharpened_img = cv2.filter2D(gray_img, -1, laplacian_kernel)\n",
    "sharpened_img = cv2.cvtColor(sharpened_img, cv2.COLOR_GRAY2BGR)\n",
    "cv2.imshow('Original Image', img)\n",
    "cv2.imshow('Sharpened Image', sharpened_img)\n",
    "cv2.waitKey(0)\n",
    "cv2.destroyAllWindows()"
   ]
  }
 ],
 "metadata": {
  "language_info": {
   "name": "python"
  },
  "orig_nbformat": 4
 },
 "nbformat": 4,
 "nbformat_minor": 2
}
