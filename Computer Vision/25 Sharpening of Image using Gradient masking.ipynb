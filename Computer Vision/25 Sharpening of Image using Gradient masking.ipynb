{
 "cells": [
  {
   "cell_type": "code",
   "execution_count": null,
   "metadata": {},
   "outputs": [],
   "source": [
    "import cv2\n",
    "import numpy as np\n",
    "import matplotlib.pyplot as plt\n",
    "def sharpen_image_with_gradient(image_path, alpha=1.5):\n",
    "    original_image = cv2.imread(image_path, cv2.IMREAD_GRAYSCALE)\n",
    "    gradient_x = cv2.Sobel(original_image, cv2.CV_64F, 1, 0, ksize=3)\n",
    "    gradient_y = cv2.Sobel(original_image, cv2.CV_64F, 0, 1, ksize=3)\n",
    "    gradient_magnitude = np.sqrt(gradient_x**2 + gradient_y**2)\n",
    "    gradient_magnitude = cv2.normalize(gradient_magnitude, None, 0, 255, cv2.NORM_MINMAX, cv2.CV_8U)\n",
    "    sharpened_image = cv2.addWeighted(original_image, 1 + alpha, gradient_magnitude, -alpha, 0)\n",
    "    return original_image, sharpened_image\n",
    "image_path = \"D://Computer Vision//Docs//car.jpeg\"\n",
    "original_image, sharpened_image = sharpen_image_with_gradient(image_path, alpha=1.5)\n",
    "plt.figure(figsize=(10, 5))\n",
    "plt.subplot(1, 2, 1)\n",
    "plt.imshow(original_image, cmap='gray')\n",
    "plt.title('Original Image')\n",
    "plt.subplot(1, 2, 2)\n",
    "plt.imshow(sharpened_image, cmap='gray')\n",
    "plt.title('Sharpened Image')\n",
    "plt.tight_layout()\n",
    "plt.show()"
   ]
  }
 ],
 "metadata": {
  "language_info": {
   "name": "python"
  },
  "orig_nbformat": 4
 },
 "nbformat": 4,
 "nbformat_minor": 2
}
