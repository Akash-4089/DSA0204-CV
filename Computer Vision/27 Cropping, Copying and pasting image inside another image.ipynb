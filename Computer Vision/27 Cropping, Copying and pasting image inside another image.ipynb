{
 "cells": [
  {
   "cell_type": "code",
   "execution_count": null,
   "metadata": {},
   "outputs": [],
   "source": [
    "import cv2\n",
    "import numpy as np\n",
    "image = cv2.imread(\"D://Computer Vision//Docs//car.jpeg\")\n",
    "img2 = cv2.imread(\"D://Computer Vision//Docs//car1.jpeg\")\n",
    "print(image.shape) # Print image shape\n",
    "cv2.imshow(\"original\", image)\n",
    "imageCopy = image.copy()\n",
    "cv2.circle(imageCopy, (100, 100), 30, (255, 0, 0), -1)\n",
    "cv2.imshow('image', image)\n",
    "cv2.imshow('image copy', imageCopy)\n",
    "cropped_image = image[80:280, 150:330]\n",
    "cv2.imshow(\"cropped\", cropped_image)\n",
    "cv2.imwrite(\"Cropped Image.jpg\", cropped_image)\n",
    "dst = cv2.addWeighted(image, 0.5, img2, 0.7, 0)\n",
    "img_arr = np.hstack((image, img2))\n",
    "cv2.imshow('Input Images',img_arr)\n",
    "cv2.imshow('Blended Image',dst)\n",
    "cv2.waitKey(0)\n",
    "cv2.destroyAllWindows()"
   ]
  }
 ],
 "metadata": {
  "language_info": {
   "name": "python"
  },
  "orig_nbformat": 4
 },
 "nbformat": 4,
 "nbformat_minor": 2
}
