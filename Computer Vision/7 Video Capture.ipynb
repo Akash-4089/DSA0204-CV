{
 "cells": [
  {
   "cell_type": "markdown",
   "metadata": {},
   "source": [
    "# Video capture"
   ]
  },
  {
   "cell_type": "code",
   "execution_count": 3,
   "metadata": {},
   "outputs": [],
   "source": [
    "import cv2"
   ]
  },
  {
   "cell_type": "code",
   "execution_count": 4,
   "metadata": {},
   "outputs": [],
   "source": [
    "cap = cv2.VideoCapture(0)\n",
    "height = int(cap.get(cv2.CAP_PROP_FRAME_HEIGHT))\n",
    "width = int(cap.get(cv2.CAP_PROP_FRAME_WIDTH))\n",
    "fps = cap.get(cv2.CAP_PROP_FPS)\n",
    "path = \"0.avi\"\n",
    "fourcc = cv2.VideoWriter_fourcc(*'mp4v')\n",
    "output = cv2.VideoWriter(path, fourcc, 2,(width, height))\n",
    "while True:\n",
    "    ret, frame = cap.read()\n",
    "    cv2.imshow(\"frame\", frame)\n",
    "    output.write(frame)\n",
    "    k = cv2.waitKey(24)\n",
    "    if k == ord(\"q\"):\n",
    "        break\n",
    "cap.release()\n",
    "output.release()\n",
    "cv2.destroyAllWindows()"
   ]
  },
  {
   "cell_type": "code",
   "execution_count": 5,
   "metadata": {},
   "outputs": [],
   "source": [
    "# # This will return video from the first webcam on your computer.\n",
    "# cap = cv2.VideoCapture(0)  \n",
    "  \n",
    "# # Define the codec and create VideoWriter object\n",
    "# fourcc = cv2.VideoWriter_fourcc(*'XVID')\n",
    "# out = cv2.VideoWriter('output.avi', fourcc, 20.0, (640, 480))\n",
    "  \n",
    "# # loop runs if capturing has been initialized. \n",
    "# while(True):\n",
    "#     # reads frames from a camera \n",
    "#     # ret checks return at each frame\n",
    "#     ret, frame = cap.read() \n",
    "  \n",
    "#     # Converts to HSV color space, OCV reads colors as BGR\n",
    "#     # frame is converted to hsv\n",
    "#     hsv = cv2.cvtColor(frame, cv2.COLOR_BGR2HSV)\n",
    "      \n",
    "#     # output the frame\n",
    "#     out.write(hsv) \n",
    "      \n",
    "#     # The original input frame is shown in the window \n",
    "#     cv2.imshow('Original', frame)\n",
    "  \n",
    "#     # The window showing the operated video stream \n",
    "#     cv2.imshow('frame', hsv)\n",
    "  \n",
    "      \n",
    "#     # Wait for 'a' key to stop the program \n",
    "#     if cv2.waitKey(1) & 0xFF == ord('a'):\n",
    "#         break\n",
    "  \n",
    "# # Close the window / Release webcam\n",
    "# cap.release()\n",
    "  \n",
    "# # After we release our webcam, we also release the output\n",
    "# out.release() \n",
    "  \n",
    "# # De-allocate any associated memory usage \n",
    "# cv2.destroyAllWindows()"
   ]
  }
 ],
 "metadata": {
  "kernelspec": {
   "display_name": "Python 3",
   "language": "python",
   "name": "python3"
  },
  "language_info": {
   "codemirror_mode": {
    "name": "ipython",
    "version": 3
   },
   "file_extension": ".py",
   "mimetype": "text/x-python",
   "name": "python",
   "nbconvert_exporter": "python",
   "pygments_lexer": "ipython3",
   "version": "3.11.4"
  },
  "orig_nbformat": 4
 },
 "nbformat": 4,
 "nbformat_minor": 2
}
