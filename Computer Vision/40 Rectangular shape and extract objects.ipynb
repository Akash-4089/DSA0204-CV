{
 "cells": [
  {
   "cell_type": "code",
   "execution_count": null,
   "metadata": {},
   "outputs": [],
   "source": [
    "import cv2\n",
    "img = cv2.imread(\"D://Computer Vision//Docs//car1.jpeg\")\n",
    "x, y = 100, 100\n",
    "width, height = 200, 150\n",
    "roi = img[y:y+height, x:x+width]\n",
    "cv2.imshow('ROI', roi)\n",
    "cv2.waitKey(0)\n",
    "cv2.destroyAllWindows()"
   ]
  }
 ],
 "metadata": {
  "language_info": {
   "name": "python"
  },
  "orig_nbformat": 4
 },
 "nbformat": 4,
 "nbformat_minor": 2
}
