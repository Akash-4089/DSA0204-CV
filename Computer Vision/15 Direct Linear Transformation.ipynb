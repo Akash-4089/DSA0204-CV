{
 "cells": [
  {
   "cell_type": "code",
   "execution_count": null,
   "metadata": {},
   "outputs": [],
   "source": [
    "import cv2\n",
    "import numpy as np\n",
    "img1 = cv2.imread(\"D://Computer Vision//Docs//car.jpeg\")\n",
    "img2 = cv2.imread(\"D://Computer Vision//Docs//img.jpeg\")\n",
    "pts1 = np.array([[50, 50], [200, 50], [50, 200], [200, 200]])\n",
    "pts2 = np.array([[100, 100], [300, 100], [100, 300], [300, 300]])\n",
    "H, _ = cv2.findHomography(pts1, pts2)\n",
    "dst = cv2.warpPerspective(img1, H, (img2.shape[1], img2.shape[0]))\n",
    "img = cv2.resize(img1,(600,600))\n",
    "img3 = cv2.resize(img2,(600,600))\n",
    "img4 = cv2.resize(dst,(600,600))\n",
    "cv2.imshow('img1', img)\n",
    "cv2.imshow('img2', img3)\n",
    "cv2.imshow('dst', img4)\n",
    "cv2.waitKey(0)\n",
    "cv2.destroyAllWindows()"
   ]
  },
  {
   "cell_type": "code",
   "execution_count": null,
   "metadata": {},
   "outputs": [],
   "source": []
  }
 ],
 "metadata": {
  "kernelspec": {
   "display_name": "Python 3",
   "language": "python",
   "name": "python3"
  },
  "language_info": {
   "codemirror_mode": {
    "name": "ipython",
    "version": 3
   },
   "file_extension": ".py",
   "mimetype": "text/x-python",
   "name": "python",
   "nbconvert_exporter": "python",
   "pygments_lexer": "ipython3",
   "version": "3.11.4"
  },
  "orig_nbformat": 4
 },
 "nbformat": 4,
 "nbformat_minor": 2
}
