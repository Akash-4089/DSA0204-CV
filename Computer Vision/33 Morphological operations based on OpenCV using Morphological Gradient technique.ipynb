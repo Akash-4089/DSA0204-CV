{
 "cells": [
  {
   "cell_type": "code",
   "execution_count": null,
   "metadata": {},
   "outputs": [],
   "source": [
    "import cv2\n",
    "import numpy as np\n",
    "img = cv2.imread(\"D://Computer Vision//Docs//car.jpeg\", cv2.IMREAD_GRAYSCALE)\n",
    "kernel = np.ones((5,5), np.uint8)\n",
    "grad = cv2.morphologyEx(img, cv2.MORPH_GRADIENT, kernel)\n",
    "cv2.imshow(\"Original\", img)\n",
    "cv2.imshow(\"Gradient\", grad)\n",
    "cv2.waitKey"
   ]
  }
 ],
 "metadata": {
  "language_info": {
   "name": "python"
  },
  "orig_nbformat": 4
 },
 "nbformat": 4,
 "nbformat_minor": 2
}
