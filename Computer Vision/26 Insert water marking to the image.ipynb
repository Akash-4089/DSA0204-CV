{
 "cells": [
  {
   "cell_type": "code",
   "execution_count": null,
   "metadata": {},
   "outputs": [],
   "source": [
    "import cv2\n",
    "img = cv2.imread(\"D://Computer Vision//Docs//car.jpeg\")\n",
    "wm = cv2.imread(\"D://Computer Vision//Docs//car1.jpeg\")\n",
    "h_wm, w_wm = wm.shape[:2]\n",
    "h_img, w_img = img.shape[:2]\n",
    "center_x = int(w_img/2)\n",
    "center_y = int(h_img/2)\n",
    "top_y = center_y - int(h_wm/2)\n",
    "left_x = center_x - int(w_wm/2)\n",
    "bottom_y = top_y + h_wm\n",
    "right_x = left_x + w_wm\n",
    "roi = img[top_y:bottom_y, left_x:right_x]\n",
    "result = cv2.addWeighted(roi, 1, wm, 0.3, 0)\n",
    "img[top_y:bottom_y, left_x:right_x] = result\n",
    "cv2.imshow(\"Watermarked Image\", img)\n",
    "cv2.waitKey(0)\n",
    "cv2.destroyAllWindows()"
   ]
  }
 ],
 "metadata": {
  "language_info": {
   "name": "python"
  },
  "orig_nbformat": 4
 },
 "nbformat": 4,
 "nbformat_minor": 2
}
