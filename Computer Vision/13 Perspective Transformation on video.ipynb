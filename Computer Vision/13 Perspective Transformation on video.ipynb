{
 "cells": [
  {
   "cell_type": "code",
   "execution_count": null,
   "metadata": {},
   "outputs": [],
   "source": [
    "import cv2\n",
    "import numpy as np"
   ]
  },
  {
   "cell_type": "code",
   "execution_count": null,
   "metadata": {},
   "outputs": [],
   "source": [
    "cap = cv2.VideoCapture(0)\n",
    "height = int(cap.get(cv2.CAP_PROP_FRAME_HEIGHT))\n",
    "width = int(cap.get(cv2.CAP_PROP_FRAME_WIDTH))\n",
    "fps = cap.get(cv2.CAP_PROP_FPS)\n",
    "path = \"0.avi\"\n",
    "fourcc = cv2.VideoWriter_fourcc(*'mp4v')\n",
    "output = cv2.VideoWriter(path, fourcc, 2,(width, height))\n",
    "while True:\n",
    "    ret, frame = cap.read()\n",
    "    rows,cols,ch = frame.shape\n",
    "    pts1 = np.float32([[56,65],[368,52],[28,387],[389,390]])\n",
    "    pts2 = np.float32([[100,50],[300,0],[0,300],[300,300]])\n",
    "    M = cv2.getPerspectiveTransform(pts1,pts2)\n",
    "    dst = cv2.warpPerspective(frame,M,(cols, rows))\n",
    "    cv2.imshow('Transformed Image', dst)\n",
    "    output.write(frame)\n",
    "    k = cv2.waitKey(24)\n",
    "    if k == ord(\"q\"):\n",
    "        break\n",
    "cap.release()\n",
    "output.release()\n",
    "cv2.destroyAllWindows()"
   ]
  }
 ],
 "metadata": {
  "language_info": {
   "name": "python"
  },
  "orig_nbformat": 4
 },
 "nbformat": 4,
 "nbformat_minor": 2
}
