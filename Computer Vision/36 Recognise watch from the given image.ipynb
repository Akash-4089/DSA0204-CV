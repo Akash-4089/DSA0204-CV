{
 "cells": [
  {
   "cell_type": "code",
   "execution_count": null,
   "metadata": {},
   "outputs": [],
   "source": [
    "import cv2\n",
    "watch_cascade = cv2.CascadeClassifier(\"D://Computer Vision//Docs//Object-Detection-using-OpenCV-master//watch-cascade.xml\")\n",
    "img = cv2.imread(\"C://Users//ASHIK C SABU//Desktop//supraaa//watch.jpg\")\n",
    "gray = cv2.cvtColor(img, cv2.COLOR_BGR2GRAY)\n",
    "watches = watch_cascade.detectMultiScale(gray, scaleFactor=1.2, minNeighbors=5)\n",
    "for (x, y, w, h) in watches:\n",
    "    cv2.rectangle(img, (x, y), (x + w, y + h), (0, 255, 0), 2)\n",
    "    cv2.imshow('Watches Detected', img)\n",
    "cv2.waitKey(0)\n",
    "cv2.destroyAllWindows()"
   ]
  }
 ],
 "metadata": {
  "language_info": {
   "name": "python"
  },
  "orig_nbformat": 4
 },
 "nbformat": 4,
 "nbformat_minor": 2
}
