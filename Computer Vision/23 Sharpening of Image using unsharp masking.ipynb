{
 "cells": [
  {
   "cell_type": "code",
   "execution_count": null,
   "metadata": {},
   "outputs": [],
   "source": [
    "import cv2\n",
    "import numpy as np\n",
    "img = cv2.imread(\"D://Computer Vision//Docs//car.jpeg\")\n",
    "gray = cv2.cvtColor(img, cv2.COLOR_BGR2GRAY)\n",
    "laplacian_kernel = np.array([[0, 1, 0],[1, -4, 1],[0, 1, 0]])\n",
    "laplacian = cv2.filter2D(gray, -1, laplacian_kernel)\n",
    "sharpened = cv2.add(gray, laplacian)\n",
    "cv2.imshow('Original Image', gray)\n",
    "cv2.imshow('Sharpened Image', sharpened)\n",
    "cv2.waitKey(0)\n",
    "cv2.destroyAllWindows()"
   ]
  }
 ],
 "metadata": {
  "language_info": {
   "name": "python"
  },
  "orig_nbformat": 4
 },
 "nbformat": 4,
 "nbformat_minor": 2
}
