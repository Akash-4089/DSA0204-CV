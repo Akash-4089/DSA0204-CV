{
 "cells": [
  {
   "cell_type": "code",
   "execution_count": null,
   "metadata": {},
   "outputs": [],
   "source": [
    "import cv2\n",
    "import numpy as np\n",
    "kernel = np.ones((5,5),np.uint8)\n",
    "img = cv2.imread(\"D://Computer Vision//Docs//car.jpeg\",cv2.IMREAD_COLOR)\n",
    "img = cv2.resize(img,(600,600))\n",
    "cv2.imshow(\"image\",img)\n",
    "cv2.waitKey(0)"
   ]
  }
 ],
 "metadata": {
  "language_info": {
   "name": "python"
  },
  "orig_nbformat": 4
 },
 "nbformat": 4,
 "nbformat_minor": 2
}
