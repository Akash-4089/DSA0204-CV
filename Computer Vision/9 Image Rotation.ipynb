{
 "cells": [
  {
   "cell_type": "code",
   "execution_count": null,
   "metadata": {},
   "outputs": [],
   "source": [
    "import cv2\n",
    "path =\"D://Computer Vision//Docs//car.jpeg\"\n",
    "src = cv2.imread(path)\n",
    "window_name = 'Image'\n",
    "image = cv2.rotate(src, cv2.ROTATE_180)\n",
    "img = cv2.resize(image,(600,600))\n",
    "cv2.imshow(window_name, img)\n",
    "cv2.waitKey(0)"
   ]
  }
 ],
 "metadata": {
  "language_info": {
   "name": "python"
  },
  "orig_nbformat": 4
 },
 "nbformat": 4,
 "nbformat_minor": 2
}
